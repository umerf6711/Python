{
 "cells": [
  {
   "cell_type": "code",
   "execution_count": 2,
   "id": "85361e30",
   "metadata": {},
   "outputs": [
    {
     "name": "stdout",
     "output_type": "stream",
     "text": [
      "2023-01-24 11:59:39.461856\n"
     ]
    }
   ],
   "source": [
    "import datetime\n",
    "x = datetime.datetime.now()\n",
    "print(x)"
   ]
  },
  {
   "cell_type": "code",
   "execution_count": 22,
   "id": "dc13bf5d",
   "metadata": {},
   "outputs": [
    {
     "name": "stdout",
     "output_type": "stream",
     "text": [
      "year:  2023   23\n",
      "month:  01   Jan   January\n",
      "din:  2\n",
      "day:  24   Tue   Tuesday\n",
      "time:  12:27:42:333696\n",
      "time:  Tue Jan 24 12:27:42 2023\n"
     ]
    }
   ],
   "source": [
    "import datetime #print date and time\n",
    "x = datetime.datetime.now()\n",
    "year = x.strftime('%Y')\n",
    "ye = x.strftime('%y')\n",
    "print('year: ', year,' ',ye)\n",
    "mo = x.strftime('%m')\n",
    "mon = x.strftime('%b')\n",
    "month = x.strftime('%B')\n",
    "print('month: ',mo,\" \",mon,\" \",month)\n",
    "d = x.strftime('%d')\n",
    "din = x.strftime('%a')\n",
    "Din = x.strftime('%A')\n",
    "d_num = x.strftime('%w')\n",
    "print('din: ', d_num)\n",
    "print('day: ',d,\" \",din,\" \",Din)\n",
    "tam = x.strftime('%H:%M:%S:%f')\n",
    "print(\"time: \",tam)\n",
    "fsd = x.strftime('%c')\n",
    "print(\"time: \",fsd)"
   ]
  },
  {
   "cell_type": "code",
   "execution_count": 23,
   "id": "1406017d",
   "metadata": {},
   "outputs": [
    {
     "name": "stdout",
     "output_type": "stream",
     "text": [
      "less than 10\n"
     ]
    }
   ],
   "source": [
    "x = 9 #selection if elif else\n",
    "if x == 10:\n",
    "        print(\"ok\")\n",
    "        \n",
    "elif x < 10:\n",
    "        print(\"less than 10\")\n",
    "else:\n",
    "    print(\"greater than 10\")"
   ]
  },
  {
   "cell_type": "code",
   "execution_count": 24,
   "id": "83456b28",
   "metadata": {},
   "outputs": [
    {
     "name": "stdout",
     "output_type": "stream",
     "text": [
      "greater than 10\n"
     ]
    }
   ],
   "source": [
    "x = 12 #nested if\n",
    "if x == 10:\n",
    "        print(\"ok\")\n",
    "        \n",
    "if x < 10:\n",
    "        print(\"less than 10\")\n",
    "else:\n",
    "    print(\"greater than 10\")"
   ]
  },
  {
   "cell_type": "code",
   "execution_count": 27,
   "id": "48f415f3",
   "metadata": {},
   "outputs": [
    {
     "name": "stdout",
     "output_type": "stream",
     "text": [
      "0\n",
      "1\n",
      "2\n",
      "3\n",
      "4\n",
      "5\n",
      "finished\n"
     ]
    }
   ],
   "source": [
    "x = 0 #for loop\n",
    "for x in range(6) :\n",
    "   \n",
    "    print(x)\n",
    "    x += 1\n",
    "print('finished')"
   ]
  },
  {
   "cell_type": "code",
   "execution_count": 28,
   "id": "068e13b4",
   "metadata": {},
   "outputs": [
    {
     "name": "stdout",
     "output_type": "stream",
     "text": [
      "0\n",
      "0\n",
      "0\n",
      "0\n",
      "1\n",
      "1\n",
      "1\n",
      "1\n",
      "2\n",
      "2\n",
      "2\n",
      "2\n",
      "3\n",
      "3\n",
      "3\n",
      "3\n",
      "4\n",
      "4\n",
      "4\n",
      "4\n",
      "5\n",
      "5\n",
      "5\n",
      "5\n"
     ]
    }
   ],
   "source": [
    "x = 0 #nested loop\n",
    "y = [1,3,4,5]\n",
    "for x in range(6):\n",
    "    for i in y:\n",
    "        print(x)\n",
    "        "
   ]
  },
  {
   "cell_type": "code",
   "execution_count": 3,
   "id": "8ace51e1",
   "metadata": {},
   "outputs": [
    {
     "name": "stdout",
     "output_type": "stream",
     "text": [
      "0\n",
      "1\n",
      "2\n",
      "3\n",
      "4\n",
      "5\n"
     ]
    }
   ],
   "source": [
    "x = 0 #while loop\n",
    "while x < 6:\n",
    "    print(x)\n",
    "    x += 1"
   ]
  },
  {
   "cell_type": "code",
   "execution_count": 16,
   "id": "a376c5ed",
   "metadata": {},
   "outputs": [
    {
     "name": "stdout",
     "output_type": "stream",
     "text": [
      "1\n",
      "2\n",
      "4\n",
      "5\n",
      "6\n"
     ]
    }
   ],
   "source": [
    "x = 0  #continue\n",
    "for x in range(6):\n",
    "    #print(x)\n",
    "    x += 1\n",
    "    if x == 3:\n",
    "        continue\n",
    "    print(x)    \n",
    "    "
   ]
  },
  {
   "cell_type": "code",
   "execution_count": 17,
   "id": "b823ba0a",
   "metadata": {},
   "outputs": [
    {
     "name": "stdout",
     "output_type": "stream",
     "text": [
      "1\n",
      "2\n",
      "3\n",
      "4\n",
      "5\n",
      "6\n"
     ]
    }
   ],
   "source": [
    "x = 0\n",
    "while x < 10:\n",
    "    x += 1\n",
    "    if x == 7:\n",
    "        break\n",
    "    print(x)   \n",
    "    "
   ]
  },
  {
   "cell_type": "code",
   "execution_count": 18,
   "id": "d226fe4e",
   "metadata": {},
   "outputs": [
    {
     "name": "stdout",
     "output_type": "stream",
     "text": [
      "5\n"
     ]
    }
   ],
   "source": [
    "x = 0\n",
    "for x in range(6):\n",
    "    pass\n",
    "print(x)"
   ]
  },
  {
   "cell_type": "code",
   "execution_count": 19,
   "id": "dc94ff6b",
   "metadata": {},
   "outputs": [
    {
     "name": "stdout",
     "output_type": "stream",
     "text": [
      "x==y False\n",
      "x!=y True\n",
      "x>y False\n",
      "x<y True\n",
      "x<=y True\n",
      "x>=y False\n"
     ]
    }
   ],
   "source": [
    "x = 10\n",
    "y = 12\n",
    "print(\"x==y\",x==y)\n",
    "print('x!=y',x!=y)\n",
    "print('x>y',x>y)\n",
    "print('x<y',x<y)\n",
    "print('x<=y',x<=y)\n",
    "print('x>=y',x>=y)\n"
   ]
  },
  {
   "cell_type": "code",
   "execution_count": 2,
   "id": "27160129",
   "metadata": {},
   "outputs": [
    {
     "name": "stdout",
     "output_type": "stream",
     "text": [
      "False\n",
      "True\n",
      "True\n"
     ]
    }
   ],
   "source": [
    "x = 4\n",
    "print(x > 5 and x < 10)\n",
    "print(x > 5 or x < 10)\n",
    "print(not(x > 5 and x < 10))\n"
   ]
  },
  {
   "cell_type": "code",
   "execution_count": 3,
   "id": "39406554",
   "metadata": {},
   "outputs": [
    {
     "name": "stdout",
     "output_type": "stream",
     "text": [
      "0\n",
      "14\n",
      "-11\n",
      "14\n"
     ]
    }
   ],
   "source": [
    "a = 10\n",
    "b = 4\n",
    "print(a&b)\n",
    "print(a | b)\n",
    "print(~a)\n",
    "print(a^b)"
   ]
  },
  {
   "cell_type": "code",
   "execution_count": 8,
   "id": "1282df00",
   "metadata": {},
   "outputs": [
    {
     "name": "stdout",
     "output_type": "stream",
     "text": [
      "fnameumer \n",
      "lnamefarooq\n",
      "umer  farooq\n"
     ]
    }
   ],
   "source": [
    "fname = input(\"fname\")\n",
    "lname = input('lname')\n",
    "def my_fun(fname,lname):\n",
    "    print(fname , lname)\n",
    "my_fun(fname,lname)"
   ]
  },
  {
   "cell_type": "code",
   "execution_count": 10,
   "id": "f999ade4",
   "metadata": {},
   "outputs": [
    {
     "name": "stdout",
     "output_type": "stream",
     "text": [
      "i love my contry pakistan\n",
      "i love my contry uk\n",
      "i love my contry norway\n"
     ]
    }
   ],
   "source": [
    "def c_name(country= \"norway\"): #calling default function\n",
    "    print('i love my contry',country)\n",
    "c_name('pakistan') \n",
    "c_name('uk')\n",
    "c_name()\n"
   ]
  },
  {
   "cell_type": "code",
   "execution_count": 12,
   "id": "7c1e9cbc",
   "metadata": {},
   "outputs": [
    {
     "name": "stdout",
     "output_type": "stream",
     "text": [
      "the youngest kid is ali\n"
     ]
    }
   ],
   "source": [
    "def kids_name(*kid):\n",
    "    print('the youngest kid is',kid[2])\n",
    "kids_name(\"umer\",\"hassan\",\"ali\")    \n"
   ]
  },
  {
   "cell_type": "code",
   "execution_count": 16,
   "id": "2da9b97c",
   "metadata": {},
   "outputs": [
    {
     "ename": "IndexError",
     "evalue": "tuple index out of range",
     "output_type": "error",
     "traceback": [
      "\u001b[1;31m---------------------------------------------------------------------------\u001b[0m",
      "\u001b[1;31mIndexError\u001b[0m                                Traceback (most recent call last)",
      "\u001b[1;32m~\\AppData\\Local\\Temp\\ipykernel_428\\2153802400.py\u001b[0m in \u001b[0;36m<module>\u001b[1;34m\u001b[0m\n\u001b[0;32m      4\u001b[0m \u001b[1;32mdef\u001b[0m \u001b[0mkid_name\u001b[0m\u001b[1;33m(\u001b[0m\u001b[1;33m*\u001b[0m\u001b[0mkid\u001b[0m\u001b[1;33m)\u001b[0m\u001b[1;33m:\u001b[0m\u001b[1;33m\u001b[0m\u001b[1;33m\u001b[0m\u001b[0m\n\u001b[0;32m      5\u001b[0m     \u001b[0mprint\u001b[0m\u001b[1;33m(\u001b[0m\u001b[1;34m\"the youngest kid is \"\u001b[0m\u001b[1;33m,\u001b[0m\u001b[0mtkid\u001b[0m\u001b[1;33m)\u001b[0m\u001b[1;33m\u001b[0m\u001b[1;33m\u001b[0m\u001b[0m\n\u001b[1;32m----> 6\u001b[1;33m \u001b[0mkids_name\u001b[0m\u001b[1;33m(\u001b[0m\u001b[1;33m)\u001b[0m\u001b[1;33m\u001b[0m\u001b[1;33m\u001b[0m\u001b[0m\n\u001b[0m",
      "\u001b[1;32m~\\AppData\\Local\\Temp\\ipykernel_428\\1229166468.py\u001b[0m in \u001b[0;36mkids_name\u001b[1;34m(*kid)\u001b[0m\n\u001b[0;32m      1\u001b[0m \u001b[1;32mdef\u001b[0m \u001b[0mkids_name\u001b[0m\u001b[1;33m(\u001b[0m\u001b[1;33m*\u001b[0m\u001b[0mkid\u001b[0m\u001b[1;33m)\u001b[0m\u001b[1;33m:\u001b[0m\u001b[1;33m\u001b[0m\u001b[1;33m\u001b[0m\u001b[0m\n\u001b[1;32m----> 2\u001b[1;33m     \u001b[0mprint\u001b[0m\u001b[1;33m(\u001b[0m\u001b[1;34m'the youngest kid is'\u001b[0m\u001b[1;33m,\u001b[0m\u001b[0mkid\u001b[0m\u001b[1;33m[\u001b[0m\u001b[1;36m2\u001b[0m\u001b[1;33m]\u001b[0m\u001b[1;33m)\u001b[0m\u001b[1;33m\u001b[0m\u001b[1;33m\u001b[0m\u001b[0m\n\u001b[0m\u001b[0;32m      3\u001b[0m \u001b[0mkids_name\u001b[0m\u001b[1;33m(\u001b[0m\u001b[1;34m\"umer\"\u001b[0m\u001b[1;33m,\u001b[0m\u001b[1;34m\"hassan\"\u001b[0m\u001b[1;33m,\u001b[0m\u001b[1;34m\"ali\"\u001b[0m\u001b[1;33m)\u001b[0m\u001b[1;33m\u001b[0m\u001b[1;33m\u001b[0m\u001b[0m\n",
      "\u001b[1;31mIndexError\u001b[0m: tuple index out of range"
     ]
    }
   ],
   "source": []
  },
  {
   "cell_type": "code",
   "execution_count": 4,
   "id": "0308f616",
   "metadata": {},
   "outputs": [
    {
     "name": "stdout",
     "output_type": "stream",
     "text": [
      "apple\n",
      "banana\n",
      "orange\n"
     ]
    }
   ],
   "source": [
    "list = ['apple','banana','orange']\n",
    "def my_list(fruit):\n",
    "    for x in list:\n",
    "        print(x)\n",
    "my_list(fruit)    "
   ]
  },
  {
   "cell_type": "code",
   "execution_count": 8,
   "id": "293a4a8a",
   "metadata": {},
   "outputs": [
    {
     "data": {
      "text/plain": [
       "30"
      ]
     },
     "execution_count": 8,
     "metadata": {},
     "output_type": "execute_result"
    }
   ],
   "source": [
    "x = 0\n",
    "for x in range(6):\n",
    "    x += 1\n",
    "    \n",
    "def my_fun(x):\n",
    "    return x * 5\n",
    "my_fun(x)"
   ]
  },
  {
   "cell_type": "code",
   "execution_count": 9,
   "id": "2b66e7b9",
   "metadata": {},
   "outputs": [
    {
     "name": "stdout",
     "output_type": "stream",
     "text": [
      "15\n"
     ]
    }
   ],
   "source": [
    "x = lambda a : a+ 10\n",
    "print(x(5))"
   ]
  },
  {
   "cell_type": "code",
   "execution_count": 10,
   "id": "1a64a09f",
   "metadata": {},
   "outputs": [
    {
     "name": "stdout",
     "output_type": "stream",
     "text": [
      "30\n"
     ]
    }
   ],
   "source": [
    "x = lambda a,b : a*b\n",
    "print(x(5,6))"
   ]
  },
  {
   "cell_type": "code",
   "execution_count": 11,
   "id": "df8d3d42",
   "metadata": {},
   "outputs": [
    {
     "name": "stdout",
     "output_type": "stream",
     "text": [
      "6\n"
     ]
    }
   ],
   "source": [
    "x = lambda a,b,c: a+b+c\n",
    "print(x(1,2,3))"
   ]
  },
  {
   "cell_type": "code",
   "execution_count": 14,
   "id": "00076643",
   "metadata": {},
   "outputs": [
    {
     "name": "stdout",
     "output_type": "stream",
     "text": [
      "22\n",
      "33\n"
     ]
    }
   ],
   "source": [
    "def my_fun(n):\n",
    "    return lambda a : a*n\n",
    "mydoubler = my_fun(2)\n",
    "mytripler = my_fun(3)\n",
    "print(mydoubler(11))\n",
    "print(mytripler(11))\n"
   ]
  },
  {
   "cell_type": "code",
   "execution_count": 32,
   "id": "eead941c",
   "metadata": {},
   "outputs": [
    {
     "name": "stdout",
     "output_type": "stream",
     "text": [
      "length of list is  4\n",
      "out of range\n",
      "done\n"
     ]
    }
   ],
   "source": [
    "x = [1,2,3,4]\n",
    "print(\"length of list is \",len(x))\n",
    "\n",
    "try:\n",
    "    x[5]\n",
    "except IndexError:\n",
    "    print(\"out of range\")\n",
    "print('done')    \n",
    "    "
   ]
  },
  {
   "cell_type": "code",
   "execution_count": 2,
   "id": "472448d0",
   "metadata": {},
   "outputs": [
    {
     "name": "stdout",
     "output_type": "stream",
     "text": [
      "5.0\n",
      "thanks\n"
     ]
    }
   ],
   "source": [
    "a = 10\n",
    "b = 2\n",
    "try:\n",
    "    x = a/b\n",
    "except:\n",
    "    print('zero input is invalid')\n",
    "else:\n",
    "    print(x)\n",
    "finally:\n",
    "    print('thanks')\n",
    "    "
   ]
  },
  {
   "cell_type": "code",
   "execution_count": 12,
   "id": "2e16c54f",
   "metadata": {},
   "outputs": [
    {
     "name": "stdout",
     "output_type": "stream",
     "text": [
      "2 * 1 = 2\n",
      "2 * 2 = 4\n",
      "2 * 3 = 6\n",
      "2 * 4 = 8\n",
      "2 * 5 = 10\n",
      "2 * 6 = 12\n",
      "2 * 7 = 14\n",
      "2 * 8 = 16\n",
      "2 * 9 = 18\n",
      "2 * 10 = 20\n"
     ]
    }
   ],
   "source": [
    "a = 2\n",
    "for i in range(1,11):\n",
    "    print(a, '*' , i , \"=\", a*i)"
   ]
  },
  {
   "cell_type": "code",
   "execution_count": 16,
   "id": "6d85d70c",
   "metadata": {},
   "outputs": [
    {
     "name": "stdout",
     "output_type": "stream",
     "text": [
      "120\n"
     ]
    }
   ],
   "source": [
    "a = 5\n",
    "c=1\n",
    "for i in range(1,a+1):\n",
    "    c = c*i\n",
    "print(c)    \n",
    "   "
   ]
  },
  {
   "cell_type": "code",
   "execution_count": 2,
   "id": "226c8f9f",
   "metadata": {},
   "outputs": [
    {
     "name": "stdout",
     "output_type": "stream",
     "text": [
      "120\n"
     ]
    }
   ],
   "source": [
    "def fact(n):\n",
    "    if n ==1:\n",
    "        return 1\n",
    "    else:\n",
    "        return n*fact(n-1)\n",
    "res = fact(5)\n",
    "print(res)"
   ]
  },
  {
   "cell_type": "code",
   "execution_count": 5,
   "id": "872b6c7d",
   "metadata": {},
   "outputs": [
    {
     "name": "stdout",
     "output_type": "stream",
     "text": [
      "Wed\n"
     ]
    }
   ],
   "source": [
    "import datetime\n",
    "a = datetime.datetime.now()\n",
    "d = a.strftime(\"%a\")\n",
    "print(d)\n"
   ]
  },
  {
   "cell_type": "code",
   "execution_count": 20,
   "id": "f77e5e5f",
   "metadata": {},
   "outputs": [
    {
     "name": "stdout",
     "output_type": "stream",
     "text": [
      "100\n",
      "20\n"
     ]
    }
   ],
   "source": [
    "class my_class: #class\n",
    "    a = 100\n",
    "    b = 20\n",
    "    def fun(self):\n",
    "        print(a+b)\n",
    "    def fun_2(self):\n",
    "        print(a-b)\n",
    "ob=my_class()\n",
    "print(ob.a)\n",
    "print(ob.b)\n",
    "\n"
   ]
  },
  {
   "cell_type": "code",
   "execution_count": 27,
   "id": "c632a594",
   "metadata": {},
   "outputs": [
    {
     "name": "stdout",
     "output_type": "stream",
     "text": [
      "factorial is:  120\n"
     ]
    }
   ],
   "source": [
    "class factorial:\n",
    "    def fact(self,a):\n",
    "        f=1\n",
    "        for i in range(1,a+1):\n",
    "            f=f*i\n",
    "        print(\"factorial is: \",f)\n",
    "ob=factorial()\n",
    "ob.fact(5)"
   ]
  },
  {
   "cell_type": "code",
   "execution_count": 34,
   "id": "4095dcb4",
   "metadata": {},
   "outputs": [
    {
     "name": "stdout",
     "output_type": "stream",
     "text": [
      "student 1:\n",
      "name of the student:  umer\n",
      "roll no:  999\n",
      "class:  12\n",
      "numbers:  1002\n",
      "persentage:  90\n",
      "grade:  A\n",
      "student 2:\n",
      "name of the student:  ali\n",
      "roll no:  989\n",
      "class:  11\n",
      "numbers:  900\n",
      "persentage:  82\n",
      "grade:  B\n"
     ]
    }
   ],
   "source": [
    "class st_rec:  #class oops\n",
    "    def st_d(self,name,rl,cl):\n",
    "        print(\"name of the student: \",name)\n",
    "        print(\"roll no: \",rl)\n",
    "        print(\"class: \",cl)\n",
    "    def st_r(self,num,pr,grd):\n",
    "        print(\"numbers: \",num)\n",
    "        print(\"persentage: \",pr)\n",
    "        print(\"grade: \",grd)\n",
    "ob1=st_rec()\n",
    "ob2=st_rec()\n",
    "print(\"student 1:\")\n",
    "ob1.st_d(\"umer\",999,12)\n",
    "ob1.st_r(1002,90,\"A\")\n",
    "\n",
    "print('student 2:')\n",
    "ob2.st_d(\"ali\",989,11)\n",
    "ob1.st_r(900,82,\"B\")\n"
   ]
  },
  {
   "cell_type": "code",
   "execution_count": 43,
   "id": "a9211f28",
   "metadata": {},
   "outputs": [
    {
     "name": "stdout",
     "output_type": "stream",
     "text": [
      "name of the student:  umer\n",
      "roll no:  999\n",
      "class:  12\n",
      "numbers:  1002\n",
      "persentage:  90\n",
      "grade:  A\n"
     ]
    }
   ],
   "source": [
    "class st_rec:   #class using self.name\n",
    "    def st_d(self,name,rl,cls):\n",
    "        self.name=name\n",
    "        self.rl=rl\n",
    "        self.cls=cls\n",
    "        \n",
    "    def st_r(self,num,pr,gr):\n",
    "        self.num=num\n",
    "        self.pr=pr\n",
    "        self.gr=gr\n",
    "    def dis_d(self):\n",
    "        print(\"name of the student: \",self.name)\n",
    "        print(\"roll no: \",self.rl)\n",
    "        print(\"class: \",self.cls)\n",
    "    def dis_r(self):\n",
    "        print(\"numbers: \",self.num)\n",
    "        print(\"persentage: \",self.pr)\n",
    "        print(\"grade: \",self.gr)\n",
    "ob=st_rec()\n",
    "ob.st_d(\"umer\",999,12)\n",
    "ob.st_r(1002,90,\"A\")\n",
    "ob.dis_d()\n",
    "ob.dis_r()"
   ]
  },
  {
   "cell_type": "code",
   "execution_count": 47,
   "id": "203d276d",
   "metadata": {},
   "outputs": [
    {
     "name": "stdout",
     "output_type": "stream",
     "text": [
      "name of the student:  umer\n",
      "roll no:  999\n",
      "class:  12\n",
      "numbers:  1002\n",
      "persentage:  90\n",
      "grade:  A\n",
      "punjab college\n"
     ]
    }
   ],
   "source": [
    "class st_rec: #class with static variable\n",
    "    colg_name= \"punjab college\"\n",
    "    def st_d(self,name,rl,cls):\n",
    "        self.name=name\n",
    "        self.rl=rl\n",
    "        self.cls=cls\n",
    "        \n",
    "    def st_r(self,num,pr,gr):\n",
    "        self.num=num\n",
    "        self.pr=pr\n",
    "        self.gr=gr\n",
    "    def dis_d(self):\n",
    "        print(\"name of the student: \",self.name)\n",
    "        print(\"roll no: \",self.rl)\n",
    "        print(\"class: \",self.cls)\n",
    "    def dis_r(self):\n",
    "        print(\"numbers: \",self.num)\n",
    "        print(\"persentage: \",self.pr)\n",
    "        print(\"grade: \",self.gr)\n",
    "ob=st_rec()\n",
    "ob.st_d(\"umer\",999,12)\n",
    "ob.st_r(1002,90,\"A\")\n",
    "ob.dis_d()\n",
    "ob.dis_r()\n",
    "print(ob.colg_name)"
   ]
  },
  {
   "cell_type": "code",
   "execution_count": 50,
   "id": "8d03efac",
   "metadata": {},
   "outputs": [
    {
     "name": "stdout",
     "output_type": "stream",
     "text": [
      "hi\n",
      "hello\n",
      "hello\n",
      "thanks\n",
      "thanks\n"
     ]
    }
   ],
   "source": [
    "class vsp:  #classmethod ans static method\n",
    "    def a(self):\n",
    "        print('hi')\n",
    "    @classmethod\n",
    "    def b(cls):\n",
    "        print(\"hello\")\n",
    "    @staticmethod\n",
    "    def c():\n",
    "        print('thanks')\n",
    "ob=vsp()\n",
    "ob.a()\n",
    "vsp.b()\n",
    "ob.b()\n",
    "vsp.c()\n",
    "ob.c()"
   ]
  },
  {
   "cell_type": "code",
   "execution_count": 70,
   "id": "f9412635",
   "metadata": {},
   "outputs": [
    {
     "name": "stdout",
     "output_type": "stream",
     "text": [
      "60\n",
      "780\n"
     ]
    }
   ],
   "source": [
    "class Cons:    #__init__\n",
    "    def __init__(self,x,y):\n",
    "        self.x=x\n",
    "        self.y=y\n",
    "    def show(self):\n",
    "        print(self.x)\n",
    "        print(self.y)\n",
    "        \n",
    "ob = Cons(60,780)\n",
    "ob.show()\n",
    "\n",
    "\n"
   ]
  },
  {
   "cell_type": "code",
   "execution_count": 73,
   "id": "61fb668b",
   "metadata": {},
   "outputs": [
    {
     "data": {
      "text/plain": [
       "5"
      ]
     },
     "execution_count": 73,
     "metadata": {},
     "output_type": "execute_result"
    }
   ],
   "source": [
    "class num: #simple class\n",
    "    x= 5\n",
    "p1=num()\n",
    "p1.x\n"
   ]
  },
  {
   "cell_type": "code",
   "execution_count": 75,
   "id": "45856890",
   "metadata": {},
   "outputs": [
    {
     "name": "stdout",
     "output_type": "stream",
     "text": [
      "umer\n",
      "24\n"
     ]
    }
   ],
   "source": [
    "class person: #class with init\n",
    "    def __init__(self,name,age):\n",
    "        self.name=name\n",
    "        self.age=age\n",
    "p1=person('umer',24)\n",
    "print(p1.name)\n",
    "print(p1.age)"
   ]
  },
  {
   "cell_type": "code",
   "execution_count": 77,
   "id": "e8636464",
   "metadata": {},
   "outputs": [
    {
     "name": "stdout",
     "output_type": "stream",
     "text": [
      "my name is  umer\n"
     ]
    }
   ],
   "source": [
    "class person: #class with saving value\n",
    "    def __init__(self,name,age):\n",
    "        self.name=name\n",
    "        self.age=age\n",
    "    def myname(self):\n",
    "        print('my name is ',self.name)\n",
    "p1=person(\"umer\",24)\n",
    "p1.myname()"
   ]
  },
  {
   "cell_type": "code",
   "execution_count": 79,
   "id": "f5711d3e",
   "metadata": {},
   "outputs": [
    {
     "name": "stdout",
     "output_type": "stream",
     "text": [
      "my age is  30\n"
     ]
    }
   ],
   "source": [
    "class person: #class with modifing object properties\n",
    "    def __init__(self,name,age):\n",
    "        self.name=name\n",
    "        self.age=age\n",
    "    def myname(self):\n",
    "        print('my name is ',self.name)\n",
    "    def myage(self):\n",
    "        print(\"my age is \",self.age)\n",
    "p1=person(\"umer\",24)\n",
    "p1.age=30\n",
    "p1.myage()"
   ]
  },
  {
   "cell_type": "code",
   "execution_count": 82,
   "id": "ced351ca",
   "metadata": {},
   "outputs": [
    {
     "name": "stdout",
     "output_type": "stream",
     "text": [
      "my name is  umer\n"
     ]
    },
    {
     "ename": "AttributeError",
     "evalue": "'person' object has no attribute 'age'",
     "output_type": "error",
     "traceback": [
      "\u001b[1;31m---------------------------------------------------------------------------\u001b[0m",
      "\u001b[1;31mAttributeError\u001b[0m                            Traceback (most recent call last)",
      "\u001b[1;32m~\\AppData\\Local\\Temp\\ipykernel_8000\\3039504145.py\u001b[0m in \u001b[0;36m<module>\u001b[1;34m\u001b[0m\n\u001b[0;32m     10\u001b[0m \u001b[1;32mdel\u001b[0m \u001b[0mp1\u001b[0m\u001b[1;33m.\u001b[0m\u001b[0mage\u001b[0m\u001b[1;33m\u001b[0m\u001b[1;33m\u001b[0m\u001b[0m\n\u001b[0;32m     11\u001b[0m \u001b[0mp1\u001b[0m\u001b[1;33m.\u001b[0m\u001b[0mmyname\u001b[0m\u001b[1;33m(\u001b[0m\u001b[1;33m)\u001b[0m\u001b[1;33m\u001b[0m\u001b[1;33m\u001b[0m\u001b[0m\n\u001b[1;32m---> 12\u001b[1;33m \u001b[0mp1\u001b[0m\u001b[1;33m.\u001b[0m\u001b[0mmyage\u001b[0m\u001b[1;33m(\u001b[0m\u001b[1;33m)\u001b[0m\u001b[1;33m\u001b[0m\u001b[1;33m\u001b[0m\u001b[0m\n\u001b[0m",
      "\u001b[1;32m~\\AppData\\Local\\Temp\\ipykernel_8000\\3039504145.py\u001b[0m in \u001b[0;36mmyage\u001b[1;34m(self)\u001b[0m\n\u001b[0;32m      6\u001b[0m         \u001b[0mprint\u001b[0m\u001b[1;33m(\u001b[0m\u001b[1;34m'my name is '\u001b[0m\u001b[1;33m,\u001b[0m\u001b[0mself\u001b[0m\u001b[1;33m.\u001b[0m\u001b[0mname\u001b[0m\u001b[1;33m)\u001b[0m\u001b[1;33m\u001b[0m\u001b[1;33m\u001b[0m\u001b[0m\n\u001b[0;32m      7\u001b[0m     \u001b[1;32mdef\u001b[0m \u001b[0mmyage\u001b[0m\u001b[1;33m(\u001b[0m\u001b[0mself\u001b[0m\u001b[1;33m)\u001b[0m\u001b[1;33m:\u001b[0m\u001b[1;33m\u001b[0m\u001b[1;33m\u001b[0m\u001b[0m\n\u001b[1;32m----> 8\u001b[1;33m         \u001b[0mprint\u001b[0m\u001b[1;33m(\u001b[0m\u001b[1;34m\"my age is \"\u001b[0m\u001b[1;33m,\u001b[0m\u001b[0mself\u001b[0m\u001b[1;33m.\u001b[0m\u001b[0mage\u001b[0m\u001b[1;33m)\u001b[0m\u001b[1;33m\u001b[0m\u001b[1;33m\u001b[0m\u001b[0m\n\u001b[0m\u001b[0;32m      9\u001b[0m \u001b[0mp1\u001b[0m\u001b[1;33m=\u001b[0m\u001b[0mperson\u001b[0m\u001b[1;33m(\u001b[0m\u001b[1;34m\"umer\"\u001b[0m\u001b[1;33m,\u001b[0m\u001b[1;36m24\u001b[0m\u001b[1;33m)\u001b[0m\u001b[1;33m\u001b[0m\u001b[1;33m\u001b[0m\u001b[0m\n\u001b[0;32m     10\u001b[0m \u001b[1;32mdel\u001b[0m \u001b[0mp1\u001b[0m\u001b[1;33m.\u001b[0m\u001b[0mage\u001b[0m\u001b[1;33m\u001b[0m\u001b[1;33m\u001b[0m\u001b[0m\n",
      "\u001b[1;31mAttributeError\u001b[0m: 'person' object has no attribute 'age'"
     ]
    }
   ],
   "source": [
    "class person: #class with deleting object properties\n",
    "    def __init__(self,name,age):\n",
    "        self.name=name\n",
    "        self.age=age\n",
    "    def myname(self):\n",
    "        print('my name is ',self.name)\n",
    "    def myage(self):\n",
    "        print(\"my age is \",self.age)\n",
    "p1=person(\"umer\",24)\n",
    "del p1.age\n",
    "p1.myname()\n",
    "p1.myage()\n"
   ]
  },
  {
   "cell_type": "code",
   "execution_count": 83,
   "id": "57727665",
   "metadata": {},
   "outputs": [
    {
     "ename": "NameError",
     "evalue": "name 'p1' is not defined",
     "output_type": "error",
     "traceback": [
      "\u001b[1;31m---------------------------------------------------------------------------\u001b[0m",
      "\u001b[1;31mNameError\u001b[0m                                 Traceback (most recent call last)",
      "\u001b[1;32m~\\AppData\\Local\\Temp\\ipykernel_8000\\3920464181.py\u001b[0m in \u001b[0;36m<module>\u001b[1;34m\u001b[0m\n\u001b[0;32m      9\u001b[0m \u001b[0mp1\u001b[0m\u001b[1;33m=\u001b[0m\u001b[0mperson\u001b[0m\u001b[1;33m(\u001b[0m\u001b[1;34m\"umer\"\u001b[0m\u001b[1;33m,\u001b[0m\u001b[1;36m24\u001b[0m\u001b[1;33m)\u001b[0m\u001b[1;33m\u001b[0m\u001b[1;33m\u001b[0m\u001b[0m\n\u001b[0;32m     10\u001b[0m \u001b[1;32mdel\u001b[0m \u001b[0mp1\u001b[0m\u001b[1;33m\u001b[0m\u001b[1;33m\u001b[0m\u001b[0m\n\u001b[1;32m---> 11\u001b[1;33m \u001b[0mp1\u001b[0m\u001b[1;33m.\u001b[0m\u001b[0mmyname\u001b[0m\u001b[1;33m(\u001b[0m\u001b[1;33m)\u001b[0m\u001b[1;33m\u001b[0m\u001b[1;33m\u001b[0m\u001b[0m\n\u001b[0m\u001b[0;32m     12\u001b[0m \u001b[0mp1\u001b[0m\u001b[1;33m.\u001b[0m\u001b[0mmyage\u001b[0m\u001b[1;33m(\u001b[0m\u001b[1;33m)\u001b[0m\u001b[1;33m\u001b[0m\u001b[1;33m\u001b[0m\u001b[0m\n",
      "\u001b[1;31mNameError\u001b[0m: name 'p1' is not defined"
     ]
    }
   ],
   "source": [
    "class person: #class with deleting object \n",
    "    def __init__(self,name,age):\n",
    "        self.name=name\n",
    "        self.age=age\n",
    "    def myname(self):\n",
    "        print('my name is ',self.name)\n",
    "    def myage(self):\n",
    "        print(\"my age is \",self.age)\n",
    "p1=person(\"umer\",24)\n",
    "del p1\n",
    "p1.myname()\n",
    "p1.myage()\n"
   ]
  },
  {
   "cell_type": "code",
   "execution_count": 85,
   "id": "befe0bd7",
   "metadata": {},
   "outputs": [
    {
     "name": "stdout",
     "output_type": "stream",
     "text": [
      "this is  apple\n",
      "apple has following nutrients:\n",
      "vitaminC\n",
      "vitaminD\n",
      "vitaminA\n"
     ]
    }
   ],
   "source": [
    "class fruit:  #class example\n",
    "    def __init__(self,name,nutr):\n",
    "        try:\n",
    "            assert type(nutr) == list\n",
    "        except AssertionError:\n",
    "            print('invalid contruction')\n",
    "            raise Exception \n",
    "        self.name=name\n",
    "        self.nutr=nutr\n",
    "        self.is_ripe = False\n",
    "    def get_name(self):\n",
    "        print('this is ',self.name)\n",
    "    def get_nutr(self):\n",
    "        print(self.name,'has following nutrients:')\n",
    "        for value in self.nutr:\n",
    "            print(value)\n",
    "    def chk_ripness(self):\n",
    "        return self.is_ripe\n",
    "ob1=fruit('apple',['vitaminC','vitaminD','vitaminA'])\n",
    "ob1.get_name()\n",
    "ob1.get_nutr()\n",
    "    "
   ]
  },
  {
   "cell_type": "code",
   "execution_count": 87,
   "id": "4b3ea1d8",
   "metadata": {},
   "outputs": [
    {
     "name": "stdout",
     "output_type": "stream",
     "text": [
      "umer farooq\n"
     ]
    }
   ],
   "source": [
    "class person:   #inheritance parent class\n",
    "    def __init__(self,fname,lname):\n",
    "        self.fname=fname\n",
    "        self.lname=lname\n",
    "    def myname(self):\n",
    "        print(self.fname,self.lname)\n",
    "ob=person('umer','farooq')\n",
    "ob.myname()\n",
    "          "
   ]
  },
  {
   "cell_type": "code",
   "execution_count": 88,
   "id": "34cdf9bb",
   "metadata": {},
   "outputs": [
    {
     "name": "stdout",
     "output_type": "stream",
     "text": [
      "umer farooq\n"
     ]
    }
   ],
   "source": [
    "class person:   #inheritance creating child class\n",
    "    def __init__(self,fname,lname):\n",
    "        self.fname=fname\n",
    "        self.lname=lname\n",
    "    def myname(self):\n",
    "        print(self.fname,self.lname)\n",
    "class son:\n",
    "    pass\n",
    "ob=person('umer','farooq')\n",
    "ob.myname()"
   ]
  },
  {
   "cell_type": "code",
   "execution_count": 93,
   "id": "c708fd2b",
   "metadata": {},
   "outputs": [
    {
     "name": "stdout",
     "output_type": "stream",
     "text": [
      "umer farooq\n",
      "2020\n"
     ]
    }
   ],
   "source": [
    "class person:   #inheritance creating child class adding properties\n",
    "    def __init__(self,fname,lname):\n",
    "        self.fname=fname\n",
    "        self.lname=lname\n",
    "    def myname(self):\n",
    "        print(self.fname,self.lname)\n",
    "class son(person):\n",
    "    def __init__(self,fname,lname):\n",
    "        person.__init__(self,fname,lname)\n",
    "        self.graduationyear = 2020\n",
    "        \n",
    "    \n",
    "    \n",
    "    \n",
    "ob=son('umer','farooq')\n",
    "ob.myname()\n",
    "print(ob.graduationyear)"
   ]
  },
  {
   "cell_type": "code",
   "execution_count": 96,
   "id": "0f7841d4",
   "metadata": {},
   "outputs": [
    {
     "name": "stdout",
     "output_type": "stream",
     "text": [
      "umer farooq\n",
      "2020\n",
      "welcom  umer farooq to the class of 2020\n"
     ]
    }
   ],
   "source": [
    "class person:   #inheritance creating child class adding method\n",
    "    def __init__(self,fname,lname):\n",
    "        self.fname=fname\n",
    "        self.lname=lname\n",
    "    def myname(self):\n",
    "        print(self.fname,self.lname)\n",
    "class son(person):\n",
    "    def __init__(self,fname,lname):\n",
    "        person.__init__(self,fname,lname)\n",
    "        self.graduationyear = 2020\n",
    "    def welcom(self):\n",
    "        print('welcom ',self.fname,self.lname,'to the class of',self.graduationyear)\n",
    "    \n",
    "    \n",
    "    \n",
    "ob=son('umer','farooq')\n",
    "ob.myname()\n",
    "print(ob.graduationyear)\n",
    "ob.welcom()"
   ]
  },
  {
   "cell_type": "code",
   "execution_count": 101,
   "id": "6032df98",
   "metadata": {},
   "outputs": [
    {
     "name": "stdout",
     "output_type": "stream",
     "text": [
      "orange has following nutrients\n",
      "vitaminC\n",
      "vitaminA\n"
     ]
    }
   ],
   "source": [
    "class fruit: #example class\n",
    "    def __init__(self,name,nutr):\n",
    "        try:\n",
    "            assert type(nutr) == list\n",
    "        except AssertionError:\n",
    "            print('invalid nutrients .please add list')\n",
    "            raise Exception\n",
    "        self.name=name\n",
    "        self.nutr=nutr\n",
    "        self.is_ripe= False\n",
    "    def getname(self):\n",
    "        print('this is',self.name)\n",
    "    def getnutr(self):\n",
    "        print(self.name,'has following nutrients')\n",
    "        for value in self.nutr:\n",
    "            print(value)\n",
    "    def chkripnes(self):\n",
    "        return self.is_ripe\n",
    "    def ripe_fruit(self):\n",
    "        self.is_ripe= True\n",
    "class        \n",
    "ob=fruit('orange',['vitaminC','vitaminA'])\n",
    "ob.getnutr()"
   ]
  },
  {
   "cell_type": "code",
   "execution_count": 2,
   "id": "64da5698",
   "metadata": {},
   "outputs": [
    {
     "name": "stdout",
     "output_type": "stream",
     "text": [
      "my name is umer farooq.\n",
      "i'm a data scientist.\n",
      "i completed my graduation from UET lahore in 2022.\n",
      "i'm from pakistan.\n"
     ]
    }
   ],
   "source": [
    "x = open('file.txt','r') #readfile\n",
    "y = x.read()\n",
    "print(y)\n",
    "x.close()"
   ]
  },
  {
   "cell_type": "code",
   "execution_count": 3,
   "id": "90ae5b8f",
   "metadata": {},
   "outputs": [
    {
     "name": "stdout",
     "output_type": "stream",
     "text": [
      "m\n"
     ]
    }
   ],
   "source": [
    "x = open('file.txt','r') #read character\n",
    "print(x.read(1))\n",
    "x.close()"
   ]
  },
  {
   "cell_type": "code",
   "execution_count": 8,
   "id": "1e77e069",
   "metadata": {},
   "outputs": [
    {
     "name": "stdout",
     "output_type": "stream",
     "text": [
      "my name is umer farooq.\n",
      "\n"
     ]
    }
   ],
   "source": [
    "x = open('file.txt','r') #read line\n",
    "print(x.readline())\n",
    "x.close()"
   ]
  },
  {
   "cell_type": "code",
   "execution_count": 9,
   "id": "68af4858",
   "metadata": {},
   "outputs": [
    {
     "name": "stdout",
     "output_type": "stream",
     "text": [
      "my name is umer farooq.\n",
      "\n",
      "i'm a data scientist.\n",
      "\n",
      "i completed my graduation from UET lahore in 2022.\n",
      "\n"
     ]
    }
   ],
   "source": [
    "x = open('file.txt','r') #readline using loop\n",
    "for i in range(1,4):\n",
    "    print(x.readline())\n",
    "x.close()    "
   ]
  },
  {
   "cell_type": "code",
   "execution_count": 1,
   "id": "04fc4927",
   "metadata": {},
   "outputs": [],
   "source": [
    "import csv\n",
    "with open(\"xyz.csv\",\"w\") as x:\n",
    "    file=csv.writer(x)\n",
    "    file.writerow([1122,'rescue'])\n",
    "    file.writerow([15,'police'])\n",
    "    x.close()    "
   ]
  },
  {
   "cell_type": "code",
   "execution_count": 6,
   "id": "ec57b102",
   "metadata": {},
   "outputs": [
    {
     "ename": "PermissionError",
     "evalue": "[Errno 13] Permission denied: 'abc.csv'",
     "output_type": "error",
     "traceback": [
      "\u001b[1;31m---------------------------------------------------------------------------\u001b[0m",
      "\u001b[1;31mPermissionError\u001b[0m                           Traceback (most recent call last)",
      "\u001b[1;32m~\\AppData\\Local\\Temp\\ipykernel_10988\\935619703.py\u001b[0m in \u001b[0;36m<module>\u001b[1;34m\u001b[0m\n\u001b[0;32m      1\u001b[0m \u001b[1;32mimport\u001b[0m \u001b[0mcsv\u001b[0m\u001b[1;33m\u001b[0m\u001b[1;33m\u001b[0m\u001b[0m\n\u001b[1;32m----> 2\u001b[1;33m \u001b[1;32mwith\u001b[0m \u001b[0mopen\u001b[0m\u001b[1;33m(\u001b[0m\u001b[1;34m'abc.csv'\u001b[0m\u001b[1;33m,\u001b[0m\u001b[1;34m'w'\u001b[0m\u001b[1;33m)\u001b[0m \u001b[1;32mas\u001b[0m \u001b[0mx\u001b[0m\u001b[1;33m:\u001b[0m\u001b[1;33m\u001b[0m\u001b[1;33m\u001b[0m\u001b[0m\n\u001b[0m\u001b[0;32m      3\u001b[0m     \u001b[0mfile\u001b[0m\u001b[1;33m=\u001b[0m\u001b[0mcsv\u001b[0m\u001b[1;33m.\u001b[0m\u001b[0mwriter\u001b[0m\u001b[1;33m(\u001b[0m\u001b[0mx\u001b[0m\u001b[1;33m)\u001b[0m\u001b[1;33m\u001b[0m\u001b[1;33m\u001b[0m\u001b[0m\n\u001b[0;32m      4\u001b[0m     \u001b[1;32mfor\u001b[0m \u001b[0mi\u001b[0m \u001b[1;32min\u001b[0m \u001b[0mrange\u001b[0m\u001b[1;33m(\u001b[0m\u001b[1;36m1\u001b[0m\u001b[1;33m,\u001b[0m\u001b[1;36m4\u001b[0m\u001b[1;33m)\u001b[0m\u001b[1;33m:\u001b[0m\u001b[1;33m\u001b[0m\u001b[1;33m\u001b[0m\u001b[0m\n\u001b[0;32m      5\u001b[0m         \u001b[0mname\u001b[0m\u001b[1;33m=\u001b[0m \u001b[0minput\u001b[0m\u001b[1;33m(\u001b[0m\u001b[1;34m'name:'\u001b[0m\u001b[1;33m)\u001b[0m\u001b[1;33m\u001b[0m\u001b[1;33m\u001b[0m\u001b[0m\n",
      "\u001b[1;31mPermissionError\u001b[0m: [Errno 13] Permission denied: 'abc.csv'"
     ]
    }
   ],
   "source": [
    "import csv     #write csv file\n",
    "with open('abc.csv','w') as x:\n",
    "    file=csv.writer(x)\n",
    "    for i in range(1,3):\n",
    "        name= input('name:')\n",
    "        city=input('city:')\n",
    "        file.writerow([name,city])\n",
    "    x.close()"
   ]
  },
  {
   "cell_type": "code",
   "execution_count": 7,
   "id": "72142347",
   "metadata": {},
   "outputs": [
    {
     "name": "stdout",
     "output_type": "stream",
     "text": [
      "['umer', 'fsd']\n",
      "[]\n",
      "['ali', 'lhr']\n",
      "[]\n"
     ]
    }
   ],
   "source": [
    "import csv        #read csv file\n",
    "with open('abc.csv','r') as x:\n",
    "    file=csv.reader(x)\n",
    "    for i in file:\n",
    "        print(i)\n",
    "    x.close()    "
   ]
  },
  {
   "cell_type": "code",
   "execution_count": 8,
   "id": "c4f06d47",
   "metadata": {},
   "outputs": [],
   "source": [
    "x = open('pqr.txt','w') #write txt file\n",
    "x.write('i am umer')\n",
    "x.close()\n"
   ]
  },
  {
   "cell_type": "code",
   "execution_count": 11,
   "id": "757bd283",
   "metadata": {},
   "outputs": [
    {
     "ename": "SyntaxError",
     "evalue": "unexpected character after line continuation character (2280346029.py, line 2)",
     "output_type": "error",
     "traceback": [
      "\u001b[1;36m  File \u001b[1;32m\"C:\\Users\\malik bros\\AppData\\Local\\Temp\\ipykernel_10988\\2280346029.py\"\u001b[1;36m, line \u001b[1;32m2\u001b[0m\n\u001b[1;33m    x.write('i am from pakistan'%\\n)\u001b[0m\n\u001b[1;37m                                  ^\u001b[0m\n\u001b[1;31mSyntaxError\u001b[0m\u001b[1;31m:\u001b[0m unexpected character after line continuation character\n"
     ]
    }
   ],
   "source": [
    "x=open('pqr.txt','a') #add txt in txt file\n",
    "x.write('i am from pakistan')\n",
    "x.write('i love traveling')\n",
    "x.close()"
   ]
  },
  {
   "cell_type": "code",
   "execution_count": 13,
   "id": "86d59799",
   "metadata": {},
   "outputs": [
    {
     "name": "stdout",
     "output_type": "stream",
     "text": [
      "\n"
     ]
    }
   ],
   "source": [
    "x = open('file.txt','r') #read and write txt file\n",
    "y= open('pqr.txt','w')\n",
    "y.write(x.read())\n",
    "x.close()\n",
    "y.close()"
   ]
  },
  {
   "cell_type": "code",
   "execution_count": 18,
   "id": "a95e532b",
   "metadata": {},
   "outputs": [
    {
     "name": "stdout",
     "output_type": "stream",
     "text": [
      "enter limit3\n",
      "data:name\n",
      "value:umer\n",
      "data:age\n",
      "value:23\n",
      "data:city\n",
      "value:fsd\n"
     ]
    }
   ],
   "source": [
    "import pickle    #write txt in binary file\n",
    "x = open('zzz.dat','wb')\n",
    "dic = {}\n",
    "a = int(input('enter limit'))\n",
    "for i in range(1,a+1):\n",
    "    data = input(\"data:\")\n",
    "    value = input('value:')\n",
    "    dic[data]=value\n",
    "pickle.dump(dic,x)\n",
    "x.close()"
   ]
  },
  {
   "cell_type": "code",
   "execution_count": 19,
   "id": "f8cbecf7",
   "metadata": {},
   "outputs": [
    {
     "name": "stdout",
     "output_type": "stream",
     "text": [
      "{'name': 'umer', 'age': '23', 'city': 'fsd'}\n"
     ]
    }
   ],
   "source": [
    "import pickle   #read binary\n",
    "x=open('zzz.dat','rb')\n",
    "y = pickle.load(x)\n",
    "print(y)\n",
    "x.close()"
   ]
  },
  {
   "cell_type": "code",
   "execution_count": 22,
   "id": "7e439ba2",
   "metadata": {},
   "outputs": [
    {
     "name": "stdout",
     "output_type": "stream",
     "text": [
      "file does not exits\n"
     ]
    }
   ],
   "source": [
    "import os\n",
    "if os.path.exists('xyz.txt'):\n",
    "    os.remove('xyz.txt')\n",
    "else:\n",
    "    print('file does not exits')\n"
   ]
  },
  {
   "cell_type": "code",
   "execution_count": 32,
   "id": "e522f2de",
   "metadata": {},
   "outputs": [
    {
     "name": "stdout",
     "output_type": "stream",
     "text": [
      "number of sudents to enroll1\n",
      "nameumer\n",
      "roll no.12\n",
      "class12\n",
      "done registation\n"
     ]
    }
   ],
   "source": [
    "import csv   #example csv write\n",
    "with open('studentdata.csv','w') as x:\n",
    "    file=csv.writer(x)\n",
    "    can = int(input('number of sudents to enroll'))\n",
    "    for i in range(1,can+1):\n",
    "        name = input('name')\n",
    "        roll_num= input('roll no.')\n",
    "        classs = input('class')\n",
    "        file.writerow([name,roll_num,classs])\n",
    "        \n",
    "    x.close()\n",
    "print('done registation')    \n"
   ]
  },
  {
   "cell_type": "code",
   "execution_count": 1,
   "id": "13e1aaed",
   "metadata": {},
   "outputs": [],
   "source": [
    "import os\n",
    "os.mkdir('c:\\\\tempdir')"
   ]
  },
  {
   "cell_type": "code",
   "execution_count": 2,
   "id": "a3b8d98b",
   "metadata": {},
   "outputs": [
    {
     "data": {
      "text/plain": [
       "'C:\\\\Users\\\\malik bros\\\\Documents\\\\practice'"
      ]
     },
     "execution_count": 2,
     "metadata": {},
     "output_type": "execute_result"
    }
   ],
   "source": [
    "import os\n",
    "os.getcwd()"
   ]
  },
  {
   "cell_type": "code",
   "execution_count": 10,
   "id": "30fd05be",
   "metadata": {},
   "outputs": [],
   "source": [
    "import os  #directory\n",
    "#os.chdir('c:\\\\tempdir')\n",
    "#os.rmdir('c:\\\\tempdir')"
   ]
  },
  {
   "cell_type": "code",
   "execution_count": 5,
   "id": "1057d757",
   "metadata": {},
   "outputs": [
    {
     "name": "stdout",
     "output_type": "stream",
     "text": [
      "0\n"
     ]
    }
   ],
   "source": [
    "import subprocess  #subprocess call\n",
    "print(subprocess.call(['dir'],shell=True))"
   ]
  },
  {
   "cell_type": "code",
   "execution_count": 6,
   "id": "b58afce4",
   "metadata": {},
   "outputs": [
    {
     "name": "stdout",
     "output_type": "stream",
     "text": [
      "b' Volume in drive C has no label.\\r\\n Volume Serial Number is AA6C-8647\\r\\n\\r\\n Directory of c:\\\\tempdir\\r\\n\\r\\n01/27/2023  06:10 PM    <DIR>          .\\r\\n01/27/2023  06:10 PM    <DIR>          ..\\r\\n               0 File(s)              0 bytes\\r\\n               2 Dir(s)  13,998,321,664 bytes free\\r\\n'\n"
     ]
    }
   ],
   "source": [
    "import subprocess  #subprocess check_output\n",
    "print(subprocess.check_output(['dir'],shell=True))"
   ]
  },
  {
   "cell_type": "code",
   "execution_count": 13,
   "id": "2a8928a2",
   "metadata": {},
   "outputs": [
    {
     "ename": "FileNotFoundError",
     "evalue": "[Errno 2] No such file or directory: 'c:\\\\ostempdir\\\\studentdata.csv'",
     "output_type": "error",
     "traceback": [
      "\u001b[1;31m---------------------------------------------------------------------------\u001b[0m",
      "\u001b[1;31mFileNotFoundError\u001b[0m                         Traceback (most recent call last)",
      "\u001b[1;32m~\\AppData\\Local\\Temp\\ipykernel_10484\\3753919298.py\u001b[0m in \u001b[0;36m<module>\u001b[1;34m\u001b[0m\n\u001b[0;32m      1\u001b[0m \u001b[1;32mimport\u001b[0m \u001b[0mcsv\u001b[0m\u001b[1;33m\u001b[0m\u001b[1;33m\u001b[0m\u001b[0m\n\u001b[0;32m      2\u001b[0m \u001b[0mfile\u001b[0m \u001b[1;33m=\u001b[0m \u001b[1;34m'c:\\\\ostempdir\\studentdata.csv'\u001b[0m\u001b[1;33m\u001b[0m\u001b[1;33m\u001b[0m\u001b[0m\n\u001b[1;32m----> 3\u001b[1;33m \u001b[0mreader\u001b[0m \u001b[1;33m=\u001b[0m \u001b[0mcsv\u001b[0m\u001b[1;33m.\u001b[0m\u001b[0mreader\u001b[0m\u001b[1;33m(\u001b[0m\u001b[0mopen\u001b[0m\u001b[1;33m(\u001b[0m\u001b[0mfile\u001b[0m\u001b[1;33m,\u001b[0m\u001b[1;34m'r'\u001b[0m\u001b[1;33m)\u001b[0m\u001b[1;33m)\u001b[0m\u001b[1;33m\u001b[0m\u001b[1;33m\u001b[0m\u001b[0m\n\u001b[0m\u001b[0;32m      4\u001b[0m \u001b[1;32mfor\u001b[0m \u001b[0mrow\u001b[0m \u001b[1;32min\u001b[0m \u001b[0mfile\u001b[0m\u001b[1;33m:\u001b[0m\u001b[1;33m\u001b[0m\u001b[1;33m\u001b[0m\u001b[0m\n\u001b[0;32m      5\u001b[0m     \u001b[0mprint\u001b[0m\u001b[1;33m(\u001b[0m\u001b[0mrow\u001b[0m\u001b[1;33m)\u001b[0m\u001b[1;33m\u001b[0m\u001b[1;33m\u001b[0m\u001b[0m\n",
      "\u001b[1;31mFileNotFoundError\u001b[0m: [Errno 2] No such file or directory: 'c:\\\\ostempdir\\\\studentdata.csv'"
     ]
    }
   ],
   "source": [
    "import csv\n",
    "file = 'c:\\\\ostempdir\\studentdata.csv'\n",
    "reader = csv.reader(open(file,'r'))\n",
    "for row in file:\n",
    "    print(row)"
   ]
  },
  {
   "cell_type": "code",
   "execution_count": 17,
   "id": "d0b7a7eb",
   "metadata": {},
   "outputs": [
    {
     "name": "stdout",
     "output_type": "stream",
     "text": [
      "False\n"
     ]
    }
   ],
   "source": [
    "import os\n",
    "print(os.path.isfile('studentdata.csv'))"
   ]
  },
  {
   "cell_type": "code",
   "execution_count": 12,
   "id": "e79382ec",
   "metadata": {},
   "outputs": [
    {
     "name": "stdout",
     "output_type": "stream",
     "text": [
      "c:\\tempdir\n"
     ]
    }
   ],
   "source": [
    "import os\n",
    "print(os.getcwd())"
   ]
  },
  {
   "cell_type": "code",
   "execution_count": 14,
   "id": "c92b7bae",
   "metadata": {},
   "outputs": [
    {
     "name": "stdout",
     "output_type": "stream",
     "text": [
      "None\n"
     ]
    }
   ],
   "source": [
    "import os\n",
    "print(os.chdir('c:\\\\'))"
   ]
  },
  {
   "cell_type": "code",
   "execution_count": 19,
   "id": "166df878",
   "metadata": {},
   "outputs": [
    {
     "name": "stdout",
     "output_type": "stream",
     "text": [
      "['$Recycle.Bin', '$WinREAgent', 'Boot', 'bootmgr', 'BOOTNXT', 'BOOTSECT.BAK', 'bootTel.dat', 'Documents and Settings', 'DumpStack.log', 'DumpStack.log.tmp', 'hiberfil.sys', 'HP Universal Print Driver', 'OneDriveTemp', 'pagefile.sys', 'Program Files', 'Program Files (x86)', 'ProgramData', 'Recovery', 'swapfile.sys', 'System Volume Information', 'temp1dir', 'tempdir', 'Users', 'Windows']\n"
     ]
    }
   ],
   "source": [
    "import os\n",
    "print(os.listdir(\"c:\\\\\"))"
   ]
  },
  {
   "cell_type": "code",
   "execution_count": 20,
   "id": "f09c6956",
   "metadata": {},
   "outputs": [
    {
     "name": "stdout",
     "output_type": "stream",
     "text": [
      "c:\\\n"
     ]
    }
   ],
   "source": [
    "import os\n",
    "print(os.getcwd())"
   ]
  },
  {
   "cell_type": "code",
   "execution_count": 21,
   "id": "985b27d8",
   "metadata": {},
   "outputs": [
    {
     "name": "stdout",
     "output_type": "stream",
     "text": [
      "None\n"
     ]
    }
   ],
   "source": [
    "import os\n",
    "print(os.chdir('tempdir'))"
   ]
  },
  {
   "cell_type": "code",
   "execution_count": 22,
   "id": "8014d52a",
   "metadata": {},
   "outputs": [
    {
     "name": "stdout",
     "output_type": "stream",
     "text": [
      "c:\\tempdir\n"
     ]
    }
   ],
   "source": [
    "import os\n",
    "print(os.getcwd())"
   ]
  },
  {
   "cell_type": "code",
   "execution_count": 23,
   "id": "db0b61ba",
   "metadata": {},
   "outputs": [
    {
     "name": "stdout",
     "output_type": "stream",
     "text": [
      "True\n"
     ]
    }
   ],
   "source": [
    "import os\n",
    "print(os.path.isfile('studentdata.csv'))"
   ]
  },
  {
   "cell_type": "code",
   "execution_count": 24,
   "id": "d9471284",
   "metadata": {},
   "outputs": [
    {
     "name": "stdout",
     "output_type": "stream",
     "text": [
      "['umer', '12', '12']\n",
      "[]\n"
     ]
    }
   ],
   "source": [
    "import csv\n",
    "file = 'c\\\\tempdir\\stedentdata.csv'\n",
    "with open('studentdata.csv','r') as x:\n",
    "    reader=csv.reader(x)\n",
    "    for i in reader:\n",
    "        print(i)\n",
    "\n",
    "    "
   ]
  },
  {
   "cell_type": "code",
   "execution_count": 42,
   "id": "1cc2ca35",
   "metadata": {},
   "outputs": [
    {
     "name": "stdout",
     "output_type": "stream",
     "text": [
      "cube: 1000\n",
      "inverted: 0.1\n",
      "done\n"
     ]
    }
   ],
   "source": [
    "from threading import Thread   #threading\n",
    "\n",
    "def get_cube(num):\n",
    "    cube = num*num*num\n",
    "    print('cube:',cube)\n",
    "def get_inverse(num):\n",
    "    inverse = 1/num\n",
    "    print('inverted:',inverse)\n",
    "t1 = Thread(target=get_cube,args=(10,))\n",
    "t2 = Thread(target=get_inverse,args=(10,))\n",
    "t1.start()\n",
    "t2.start()\n",
    "t1.join()\n",
    "t2.join()\n",
    "print('done')\n"
   ]
  },
  {
   "cell_type": "code",
   "execution_count": 43,
   "id": "2215e8a0",
   "metadata": {},
   "outputs": [
    {
     "name": "stdout",
     "output_type": "stream",
     "text": [
      "<Response [200]>\n",
      "200\n"
     ]
    }
   ],
   "source": [
    "import requests #requet module\n",
    "x = requests.get('http://github.com')\n",
    "print(x)\n",
    "print(x.status_code)"
   ]
  },
  {
   "cell_type": "code",
   "execution_count": 45,
   "id": "63566ad7",
   "metadata": {},
   "outputs": [
    {
     "name": "stdout",
     "output_type": "stream",
     "text": [
      "<Response [200]>\n",
      "200\n",
      "followering: 1\n",
      "followers: 538\n"
     ]
    }
   ],
   "source": [
    "import requests #requests modules\n",
    "x = requests.get('http://api.github.com/users/sana-rasheed')\n",
    "print(x)\n",
    "print(x.status_code)\n",
    "data = x.json()\n",
    "print('followering:',data['following'])\n",
    "print('followers:',data['followers'])\n"
   ]
  },
  {
   "cell_type": "code",
   "execution_count": 46,
   "id": "57ae37a1",
   "metadata": {},
   "outputs": [
    {
     "name": "stdout",
     "output_type": "stream",
     "text": [
      "<Response [301]>\n"
     ]
    }
   ],
   "source": [
    "import requests\n",
    "x = requests.head('http://api.github.com/users/sana-rasheed')\n",
    "print(x)"
   ]
  },
  {
   "cell_type": "code",
   "execution_count": 57,
   "id": "5980e6f0",
   "metadata": {},
   "outputs": [
    {
     "name": "stdout",
     "output_type": "stream",
     "text": [
      "type : programming\n",
      "setup : Why do C# and Java developers keep breaking their keyboards?\n",
      "punchline : Because they use a strongly typed language.\n",
      "id : 74\n"
     ]
    }
   ],
   "source": [
    "import requests #request module\n",
    "url = 'https://official-joke-api.appspot.com/jokes/programming/random'\n",
    "x = requests.get(url)\n",
    "data = x.json()[0]\n",
    "for i in data:\n",
    "    print(i,':',data[i])"
   ]
  },
  {
   "cell_type": "code",
   "execution_count": 60,
   "id": "30d18e2e",
   "metadata": {},
   "outputs": [
    {
     "name": "stdout",
     "output_type": "stream",
     "text": [
      "{'ahmad': '87', 'ali': '56', 'amna': '76'}\n"
     ]
    }
   ],
   "source": [
    "import requests\n",
    "myobj = {'ali': 56 ,'ahmad':87,'amna':76}\n",
    "r = requests.post('http://httpbin.org/post', data=myobj)\n",
    "\n",
    "data = r.json()\n",
    "d = data['form']\n",
    "print(d)"
   ]
  },
  {
   "cell_type": "code",
   "execution_count": 75,
   "id": "29adc580",
   "metadata": {},
   "outputs": [
    {
     "name": "stdout",
     "output_type": "stream",
     "text": [
      "{\"umer\": 34, \"ali\": 33, \"usman\": 55}\n"
     ]
    }
   ],
   "source": [
    "import json   #json to read and write java program \n",
    "#loads and dumps #java string object notation\n",
    "data = {\"umer\":34,\"ali\":33,\"usman\":55}\n",
    "\n",
    "parsed = json.dumps(data)\n",
    "print(parsed)"
   ]
  },
  {
   "cell_type": "code",
   "execution_count": 4,
   "id": "c46d6248",
   "metadata": {},
   "outputs": [],
   "source": [
    "import sqlite3   #sqlite make database\n",
    "connection = sqlite3.connect('SQlite_python.db')\n",
    "cursor = connection.cursor()\n",
    "cursor.close()"
   ]
  },
  {
   "cell_type": "code",
   "execution_count": 20,
   "id": "7e04636e",
   "metadata": {},
   "outputs": [
    {
     "name": "stdout",
     "output_type": "stream",
     "text": [
      "Database created and connected to sqlite3\n",
      "SQlite databse version is:  [('3.39.3',)]\n",
      "The SQlite connection is close\n"
     ]
    }
   ],
   "source": [
    "import sqlite3\n",
    "try:\n",
    "    sqliteconnection = sqlite3.connect('SQlie_python.db')\n",
    "    cur = sqliteconnection.cursor()\n",
    "    print('Database created and connected to sqlite3')\n",
    "    sqlite_query = 'select sqlite_version();'\n",
    "    cur.execute(sqlite_query)\n",
    "    record = cur.fetchall()\n",
    "    print('SQlite databse version is: ',record)\n",
    "    cur.close()\n",
    "except sqlite3.Error as error:\n",
    "    print('Error while connecting to sqlite',error)\n",
    "finally:\n",
    "    if(sqliteconnection):\n",
    "        sqliteconnection.close()\n",
    "        print('The SQlite connection is close')\n",
    "    \n"
   ]
  },
  {
   "cell_type": "code",
   "execution_count": 21,
   "id": "a26478d4",
   "metadata": {},
   "outputs": [
    {
     "name": "stdout",
     "output_type": "stream",
     "text": [
      "database is created and connected to SQlite\n",
      "SQlite table created\n",
      "SQlite connection is close\n"
     ]
    }
   ],
   "source": [
    "import sqlite3  #sqlite table create\n",
    "try:\n",
    "    sqliteconnection = sqlite3.connect('Sqlite_python.db')\n",
    "    cur = sqliteconnection.cursor()\n",
    "    print('database is created and connected to SQlite')\n",
    "    create_table_query = '''CREATE TABLE \n",
    "    sqlitedb_developers (\n",
    "    id INTEGER PRIMARY KEY,\n",
    "    name TEXT NOT NULL,\n",
    "    email TEXT NOT NULL UNIQUE,\n",
    "    joining_date datetime,\n",
    "    salary REAL NOT NULL);\n",
    "    '''\n",
    "    cur.execute(create_table_query)\n",
    "    sqliteconnection.commit()\n",
    "    print('SQlite table created')\n",
    "    cur.close()\n",
    "except sqlite3.Error as error:\n",
    "    print('An error while creating connetion ')\n",
    "finally:\n",
    "    if(sqliteconnection):\n",
    "        sqliteconnection.close()\n",
    "        print('SQlite connection is close')\n",
    "    "
   ]
  },
  {
   "cell_type": "code",
   "execution_count": 22,
   "id": "33bf156f",
   "metadata": {},
   "outputs": [
    {
     "data": {
      "text/plain": [
       "'C:\\\\Users\\\\malik bros\\\\Documents\\\\practice'"
      ]
     },
     "execution_count": 22,
     "metadata": {},
     "output_type": "execute_result"
    }
   ],
   "source": [
    "import os\n",
    "os.getcwd()"
   ]
  },
  {
   "cell_type": "code",
   "execution_count": 74,
   "id": "0039705a",
   "metadata": {},
   "outputs": [
    {
     "name": "stdout",
     "output_type": "stream",
     "text": [
      "Database create and connected to sqlite\n",
      "SQlite table created\n",
      "done\n"
     ]
    }
   ],
   "source": [
    "import sqlite3    #sqlite table create\n",
    "try:\n",
    "    conn = sqlite3.connect('data.db')\n",
    "    print('Database create and connected to sqlite')\n",
    "    cur = conn.cursor()\n",
    "    create_table_query ='''CREATE TABLE\n",
    "    clintsss_data (id INTEGER PRIMARY KEY ,\n",
    "    name TEXT NOT NULL,\n",
    "    age INTEGER NOT NULL,\n",
    "    adress CHAR(50),\n",
    "    payment REAL NOT NULL);'''\n",
    "    cur.execute(create_table_query)\n",
    "    conn.commit()\n",
    "    print('SQlite table created')\n",
    "    cur.close()\n",
    "except sqlite3.Error as error:\n",
    "    print('error while connection to sqlite')\n",
    "finally:\n",
    "    if(conn):\n",
    "        print('done')\n",
    "        conn.close()"
   ]
  },
  {
   "cell_type": "code",
   "execution_count": 75,
   "id": "18b8b38d",
   "metadata": {},
   "outputs": [
    {
     "name": "stdout",
     "output_type": "stream",
     "text": [
      "Connected to SQlite\n",
      "Data is uploaded\n",
      "Done uploading data\n"
     ]
    }
   ],
   "source": [
    "import sqlite3   #insert data in table sqlite \n",
    "try:\n",
    "    sqliteconnection = sqlite3.connect('data.db')\n",
    "    cur = sqliteconnection.cursor()\n",
    "    print('Connected to SQlite')\n",
    "    cur.execute(\"INSERT INTO clintsss_data (id,name,age,adress,payment)\\n VALUES(1,'umer',23,'faisalabad',120000.0)\");\n",
    "    cur.execute(\"INSERT INTO clintsss_data (id,name,age,adress,payment)\\n VALUES(2,'ali',24,'lahore',12000.0)\");\n",
    "    cur.execute(\"INSERT INTO clintsss_data (id,name,age,adress,payment)\\n VALUES(3,'umair',25,'karachi',10000.0)\");\n",
    "    cur.execute(\"INSERT INTO clintsss_data (id,name,age,adress,payment)\\n VALUES(4,'hamza',45,'islambad',20000.0)\");\n",
    "    sqliteconnection.commit()\n",
    "    print('Data is uploaded')\n",
    "    cur.close()\n",
    "except sqlite3.Error as error:\n",
    "    print('Error while connection')\n",
    "finally:\n",
    "    if(sqliteconnection):\n",
    "        print('Done uploading data')\n",
    "        sqliteconnection.close()\n",
    "        "
   ]
  },
  {
   "cell_type": "code",
   "execution_count": 77,
   "id": "31f4b395",
   "metadata": {},
   "outputs": [
    {
     "name": "stdout",
     "output_type": "stream",
     "text": [
      "Databse connected to SQlite\n",
      "ID: 1\n",
      "NAME: umer\n",
      "AGE: 23\n",
      "ADRESS: faisalabad\n",
      "PAYMENT: 120000.0 \n",
      "\n",
      "ID: 2\n",
      "NAME: ali\n",
      "AGE: 24\n",
      "ADRESS: lahore\n",
      "PAYMENT: 12000.0 \n",
      "\n",
      "ID: 3\n",
      "NAME: umair\n",
      "AGE: 25\n",
      "ADRESS: karachi\n",
      "PAYMENT: 10000.0 \n",
      "\n",
      "ID: 4\n",
      "NAME: hamza\n",
      "AGE: 45\n",
      "ADRESS: islambad\n",
      "PAYMENT: 20000.0 \n",
      "\n",
      "DONE\n"
     ]
    }
   ],
   "source": [
    "import sqlite3    #select data from database sqlite\n",
    "sqliteconnect = sqlite3.connect('data.db')\n",
    "print('Databse connected to SQlite')\n",
    "cur =sqliteconnect.execute('SELECT id,name,age,adress,payment FROM clintsss_data')\n",
    "for row in cur:\n",
    "    print('ID:',row[0])\n",
    "    print('NAME:',row[1])\n",
    "    print('AGE:',row[2])\n",
    "    print('ADRESS:',row[3])\n",
    "    print('PAYMENT:',row[4],\"\\n\")\n",
    "print('DONE') \n",
    "sqliteconnect.commit()\n",
    "sqliteconnect.close()"
   ]
  },
  {
   "cell_type": "code",
   "execution_count": 82,
   "id": "49119eb2",
   "metadata": {},
   "outputs": [
    {
     "name": "stdout",
     "output_type": "stream",
     "text": [
      "Connected to SQlite\n",
      "Number of rows changed: 1\n",
      "ID: 1\n",
      "NAME: umer\n",
      "AGE: 23\n",
      "ADRESS: faisalabad\n",
      "PAYMENT: 29000.0 \n",
      "\n",
      "ID: 2\n",
      "NAME: ali\n",
      "AGE: 24\n",
      "ADRESS: lahore\n",
      "PAYMENT: 12000.0 \n",
      "\n",
      "ID: 3\n",
      "NAME: umair\n",
      "AGE: 25\n",
      "ADRESS: karachi\n",
      "PAYMENT: 10000.0 \n",
      "\n",
      "ID: 4\n",
      "NAME: hamza\n",
      "AGE: 45\n",
      "ADRESS: islambad\n",
      "PAYMENT: 20000.0 \n",
      "\n",
      "done\n"
     ]
    }
   ],
   "source": [
    "import sqlite3\n",
    "conn = sqlite3.connect('data.db')\n",
    "print('Connected to SQlite')\n",
    "conn.execute('UPDATE clintsss_data set payment = 29000 where id=1')\n",
    "conn.commit()\n",
    "print('Number of rows changed:',conn.total_changes)\n",
    "cur = conn.execute('SELECT id,name,age,adress,payment FROM clintsss_data')\n",
    "for i in cur:\n",
    "    print('ID:',i[0])\n",
    "    print('NAME:',i[1])\n",
    "    print('AGE:',i[2])\n",
    "    print('ADRESS:',i[3])\n",
    "    print('PAYMENT:',i[4],'\\n')\n",
    "print('done')\n",
    "conn.close()"
   ]
  },
  {
   "cell_type": "code",
   "execution_count": 85,
   "id": "7e173bdb",
   "metadata": {},
   "outputs": [
    {
     "name": "stdout",
     "output_type": "stream",
     "text": [
      "Connected to SQlite\n",
      "DONE\n",
      "Number of changes: 1\n",
      "ID: 1\n",
      "NAME: umer\n",
      "AGE: 23\n",
      "ADRESS: faisalabad\n",
      "PAYMENT: 29000.0 \n",
      "\n",
      "ID: 2\n",
      "NAME: ali\n",
      "AGE: 24\n",
      "ADRESS: lahore\n",
      "PAYMENT: 12000.0 \n",
      "\n",
      "ID: 4\n",
      "NAME: hamza\n",
      "AGE: 45\n",
      "ADRESS: islambad\n",
      "PAYMENT: 20000.0 \n",
      "\n",
      "done\n"
     ]
    }
   ],
   "source": [
    "import sqlite3\n",
    "conn = sqlite3.connect('data.db')\n",
    "print('Connected to SQlite')\n",
    "conn.execute('DELETE FROM clintsss_data where ID=3')\n",
    "print('DONE')\n",
    "print('Number of changes:',conn.total_changes)\n",
    "cur=conn.execute('SELECT id,name,age,adress,payment FROM clintsss_data')\n",
    "for i in cur:\n",
    "    print('ID:',i[0])\n",
    "    print('NAME:',i[1])\n",
    "    print('AGE:',i[2])\n",
    "    print('ADRESS:',i[3])\n",
    "    print('PAYMENT:',i[4],'\\n')\n",
    "print('done')\n",
    "conn.close()"
   ]
  },
  {
   "cell_type": "code",
   "execution_count": 4,
   "id": "02694bea",
   "metadata": {},
   "outputs": [
    {
     "name": "stdout",
     "output_type": "stream",
     "text": [
      "Database created and connected to SQlite\n",
      "Table created\n",
      "DONE\n"
     ]
    }
   ],
   "source": [
    "import sqlite3   #example sqlite\n",
    "conn= sqlite3.connect('databases.db')\n",
    "print('Database created and connected to SQlite')\n",
    "cur = conn.cursor()\n",
    "create_table_query = '''\n",
    "CREATE TABLE students (\n",
    "id INTEGER PRIMARY KEY,\n",
    "name TEXT NOT NULL,\n",
    "GPA REAL NOT NULL,\n",
    "adress CHAR(30),\n",
    "admission_date NOT NULL );'''\n",
    "cur.execute(create_table_query)\n",
    "print('Table created')\n",
    "cur.close()\n",
    "print('DONE')\n",
    "conn.close()"
   ]
  },
  {
   "cell_type": "code",
   "execution_count": 7,
   "id": "18d8da1e",
   "metadata": {},
   "outputs": [
    {
     "name": "stdout",
     "output_type": "stream",
     "text": [
      "Connected to SQlite\n",
      "Data inserted\n",
      "DONE\n"
     ]
    }
   ],
   "source": [
    "import sqlite3\n",
    "conn=sqlite3.connect('databases.db')\n",
    "print('Connected to SQlite')\n",
    "conn.execute('INSERT INTO students (id,name,GPA,adress,admission_date) \\n  VALUES(1,\"Umer\",3.34,\"Faisalabad\",\"20-6-2016\");')\n",
    "conn.execute('INSERT INTO students (id,name,GPA,adress,admission_date) \\n  VALUES(2,\"Ali\",3.4,\"Lahore\",\"20-6-2016\");')\n",
    "conn.execute('INSERT INTO students (id,name,GPA,adress,admission_date) \\n  VALUES(3,\"Usman\",2.34,\"Karachi\",\"20-6-2016\");')\n",
    "conn.execute('INSERT INTO students (id,name,GPA,adress,admission_date) \\n  VALUES(4,\"Hamza\",3.04,\"Multan\",\"20-6-2016\");')\n",
    "conn.commit()\n",
    "print('Data inserted')\n",
    "print('DONE')\n",
    "conn.close()"
   ]
  },
  {
   "cell_type": "code",
   "execution_count": 10,
   "id": "ec1dc583",
   "metadata": {},
   "outputs": [
    {
     "name": "stdout",
     "output_type": "stream",
     "text": [
      "Connected to SQlite3\n",
      "ID: 1\n",
      "NAME: Umer\n",
      "GPA: 3.34\n",
      "ADRESS: Faisalabad\n",
      "ADMISSION DATE: 20-6-2016 \n",
      "\n",
      "ID: 2\n",
      "NAME: Ali\n",
      "GPA: 3.4\n",
      "ADRESS: Lahore\n",
      "ADMISSION DATE: 20-6-2016 \n",
      "\n",
      "ID: 3\n",
      "NAME: Usman\n",
      "GPA: 2.34\n",
      "ADRESS: Karachi\n",
      "ADMISSION DATE: 20-6-2016 \n",
      "\n",
      "ID: 4\n",
      "NAME: Hamza\n",
      "GPA: 3.04\n",
      "ADRESS: Multan\n",
      "ADMISSION DATE: 20-6-2016 \n",
      "\n",
      "DONE\n"
     ]
    }
   ],
   "source": [
    "import sqlite3\n",
    "conn=sqlite3.connect('databases.db')\n",
    "print('Connected to SQlite3')\n",
    "cur=conn.execute('SELECT id,name,GPA,adress,admission_date FROM students')\n",
    "for i in cur:\n",
    "    print('ID:',i[0])\n",
    "    print('NAME:',i[1])\n",
    "    print('GPA:',i[2])\n",
    "    print('ADRESS:',i[3])\n",
    "    print('ADMISSION DATE:',i[4],'\\n')\n",
    "conn.commit()\n",
    "print('DONE')\n",
    "conn.close()\n",
    "\n",
    "    "
   ]
  },
  {
   "cell_type": "code",
   "execution_count": 16,
   "id": "ea9d1deb",
   "metadata": {},
   "outputs": [
    {
     "name": "stderr",
     "output_type": "stream",
     "text": [
      "E\n",
      "======================================================================\n",
      "ERROR: C:\\Users\\malik bros\\AppData\\Roaming\\jupyter\\runtime\\kernel-a31297e5-c4af-49d2-9afb-395b371b6673 (unittest.loader._FailedTest)\n",
      "----------------------------------------------------------------------\n",
      "AttributeError: module '__main__' has no attribute 'C:\\Users\\malik bros\\AppData\\Roaming\\jupyter\\runtime\\kernel-a31297e5-c4af-49d2-9afb-395b371b6673'\n",
      "\n",
      "----------------------------------------------------------------------\n",
      "Ran 1 test in 0.002s\n",
      "\n",
      "FAILED (errors=1)\n"
     ]
    },
    {
     "ename": "SystemExit",
     "evalue": "True",
     "output_type": "error",
     "traceback": [
      "An exception has occurred, use %tb to see the full traceback.\n",
      "\u001b[1;31mSystemExit\u001b[0m\u001b[1;31m:\u001b[0m True\n"
     ]
    },
    {
     "name": "stderr",
     "output_type": "stream",
     "text": [
      "C:\\Users\\malik bros\\anaconda3\\lib\\site-packages\\IPython\\core\\interactiveshell.py:3465: UserWarning: To exit: use 'exit', 'quit', or Ctrl-D.\n",
      "  warn(\"To exit: use 'exit', 'quit', or Ctrl-D.\", stacklevel=1)\n"
     ]
    }
   ],
   "source": [
    "import unittest #testing\n",
    "\n",
    "class learntest(unittest.TestCase):\n",
    "    def test_n1(self):\n",
    "        print('done')\n",
    "\n",
    "if __name__ == \"__main__\":\n",
    "    unittest.main()"
   ]
  },
  {
   "cell_type": "code",
   "execution_count": 18,
   "id": "36b78a72",
   "metadata": {},
   "outputs": [
    {
     "name": "stderr",
     "output_type": "stream",
     "text": [
      "E\n",
      "======================================================================\n",
      "ERROR: C:\\Users\\malik bros\\AppData\\Roaming\\jupyter\\runtime\\kernel-a31297e5-c4af-49d2-9afb-395b371b6673 (unittest.loader._FailedTest)\n",
      "----------------------------------------------------------------------\n",
      "AttributeError: module '__main__' has no attribute 'C:\\Users\\malik bros\\AppData\\Roaming\\jupyter\\runtime\\kernel-a31297e5-c4af-49d2-9afb-395b371b6673'\n",
      "\n",
      "----------------------------------------------------------------------\n",
      "Ran 1 test in 0.001s\n",
      "\n",
      "FAILED (errors=1)\n"
     ]
    },
    {
     "ename": "SystemExit",
     "evalue": "True",
     "output_type": "error",
     "traceback": [
      "An exception has occurred, use %tb to see the full traceback.\n",
      "\u001b[1;31mSystemExit\u001b[0m\u001b[1;31m:\u001b[0m True\n"
     ]
    },
    {
     "name": "stderr",
     "output_type": "stream",
     "text": [
      "C:\\Users\\malik bros\\anaconda3\\lib\\site-packages\\IPython\\core\\interactiveshell.py:3465: UserWarning: To exit: use 'exit', 'quit', or Ctrl-D.\n",
      "  warn(\"To exit: use 'exit', 'quit', or Ctrl-D.\", stacklevel=1)\n"
     ]
    }
   ],
   "source": [
    "#sum test\n",
    "import unittest\n",
    "def sun(a,b):\n",
    "    return a+b\n",
    "class sumtest(unittest.TestCase):\n",
    "\n",
    "    def setup(self,a,b):\n",
    "        print('setup called...')\n",
    "        self.a = int(input('input a'))\n",
    "        self.b = int(input('input b'))\n",
    "    def test_sumfun1(self):\n",
    "        print('Test-1 called')\n",
    "        #act\n",
    "        result = sum(self.a,self.b)\n",
    "        #assert\n",
    "        self.assertEqual(result,self.a+self.b)\n",
    "    \n",
    "        \n",
    "        \n",
    "if __name__=='__main__':\n",
    "    unittest.main()"
   ]
  },
  {
   "cell_type": "markdown",
   "id": "e63888c3",
   "metadata": {},
   "source": [
    "import unittest\n",
    "\n",
    "def sum(a,b):\n",
    "    return a+b\n",
    "\n",
    "class sumtest(unittest.TestCase):\n",
    "       \n",
    "   def setUp(self):\n",
    "      # self.a = 10\n",
    "       #self.b = 20\n",
    "       self.a = int(input('input a: '))\n",
    "       self.b = int(input('input b: '))\n",
    "    \n",
    "    \n",
    "   def test_sumfun_1(self):\n",
    "\n",
    "      result = sum(self.a,self.b)\n",
    "      self.assertEqual(result,self.a+self.b)\n",
    "      \n",
    "   def test_sumfun_2(self):\n",
    "\n",
    "      result = sum(self.b,self.a)\n",
    "      self.assertEqual(result,self.a+self.b) \n",
    "        \n",
    "   \n",
    "      print('done')\n",
    "if __name__=='__main__':\n",
    "    unittest.main()"
   ]
  },
  {
   "cell_type": "code",
   "execution_count": 21,
   "id": "5d8ff1f0",
   "metadata": {},
   "outputs": [
    {
     "name": "stderr",
     "output_type": "stream",
     "text": [
      "E\n",
      "======================================================================\n",
      "ERROR: C:\\Users\\malik bros\\AppData\\Roaming\\jupyter\\runtime\\kernel-a31297e5-c4af-49d2-9afb-395b371b6673 (unittest.loader._FailedTest)\n",
      "----------------------------------------------------------------------\n",
      "AttributeError: module '__main__' has no attribute 'C:\\Users\\malik bros\\AppData\\Roaming\\jupyter\\runtime\\kernel-a31297e5-c4af-49d2-9afb-395b371b6673'\n",
      "\n",
      "----------------------------------------------------------------------\n",
      "Ran 1 test in 0.023s\n",
      "\n",
      "FAILED (errors=1)\n"
     ]
    },
    {
     "ename": "SystemExit",
     "evalue": "True",
     "output_type": "error",
     "traceback": [
      "An exception has occurred, use %tb to see the full traceback.\n",
      "\u001b[1;31mSystemExit\u001b[0m\u001b[1;31m:\u001b[0m True\n"
     ]
    },
    {
     "name": "stderr",
     "output_type": "stream",
     "text": [
      "C:\\Users\\malik bros\\anaconda3\\lib\\site-packages\\IPython\\core\\interactiveshell.py:3465: UserWarning: To exit: use 'exit', 'quit', or Ctrl-D.\n",
      "  warn(\"To exit: use 'exit', 'quit', or Ctrl-D.\", stacklevel=1)\n"
     ]
    }
   ],
   "source": [
    "import unittest\n",
    "\n",
    "def sum(a,b):\n",
    "    return a+b\n",
    "\n",
    "class sumtest(unittest.TestCase):\n",
    "       \n",
    "    def setUp(self):\n",
    "      \n",
    "        self.a = int(input('input a: '))\n",
    "        self.b = int(input('input b: '))\n",
    "    \n",
    "    \n",
    "    def test_sumfun_1(self):\n",
    "\n",
    "        result = sum(self.a,self.b)\n",
    "        self.assertEqual(result,self.a+self.b)\n",
    "      \n",
    "    def test_sumfun_2(self):\n",
    "\n",
    "        result = sum(self.b,self.a)\n",
    "        self.assertEqual(result,self.a+self.b) \n",
    "        \n",
    "   \n",
    "        print('done')\n",
    "if __name__=='__main__':\n",
    "    unittest.main()"
   ]
  },
  {
   "cell_type": "code",
   "execution_count": 23,
   "id": "8e4a5774",
   "metadata": {},
   "outputs": [
    {
     "name": "stdout",
     "output_type": "stream",
     "text": [
      "> \u001b[1;32mc:\\users\\malik bros\\appdata\\local\\temp\\ipykernel_12988\\4323303.py\u001b[0m(6)\u001b[0;36mtest_fun\u001b[1;34m()\u001b[0m\n",
      "\n",
      "ipdb> n\n",
      "This is first line\n",
      "> \u001b[1;32mc:\\users\\malik bros\\appdata\\local\\temp\\ipykernel_12988\\4323303.py\u001b[0m(7)\u001b[0;36mtest_fun\u001b[1;34m()\u001b[0m\n",
      "\n",
      "ipdb> n\n",
      "This is second line\n",
      "> \u001b[1;32mc:\\users\\malik bros\\appdata\\local\\temp\\ipykernel_12988\\4323303.py\u001b[0m(8)\u001b[0;36mtest_fun\u001b[1;34m()\u001b[0m\n",
      "\n",
      "ipdb> s\n",
      "--Call--\n",
      "> \u001b[1;32mc:\\users\\malik bros\\appdata\\local\\temp\\ipykernel_12988\\4323303.py\u001b[0m(2)\u001b[0;36msum\u001b[1;34m()\u001b[0m\n",
      "\n",
      "ipdb> s\n",
      "> \u001b[1;32mc:\\users\\malik bros\\appdata\\local\\temp\\ipykernel_12988\\4323303.py\u001b[0m(3)\u001b[0;36msum\u001b[1;34m()\u001b[0m\n",
      "\n",
      "ipdb> s\n",
      "--Return--\n",
      "5\n",
      "> \u001b[1;32mc:\\users\\malik bros\\appdata\\local\\temp\\ipykernel_12988\\4323303.py\u001b[0m(3)\u001b[0;36msum\u001b[1;34m()\u001b[0m\n",
      "\n",
      "ipdb> s\n",
      "> \u001b[1;32mc:\\users\\malik bros\\appdata\\local\\temp\\ipykernel_12988\\4323303.py\u001b[0m(9)\u001b[0;36mtest_fun\u001b[1;34m()\u001b[0m\n",
      "\n",
      "ipdb> n\n",
      "--Return--\n",
      "5\n",
      "> \u001b[1;32mc:\\users\\malik bros\\appdata\\local\\temp\\ipykernel_12988\\4323303.py\u001b[0m(9)\u001b[0;36mtest_fun\u001b[1;34m()\u001b[0m\n",
      "\n",
      "ipdb> n\n",
      "--Call--\n",
      "> \u001b[1;32mc:\\users\\malik bros\\anaconda3\\lib\\site-packages\\ipython\\core\\displayhook.py\u001b[0m(252)\u001b[0;36m__call__\u001b[1;34m()\u001b[0m\n",
      "\u001b[1;32m    250 \u001b[1;33m        \u001b[0msys\u001b[0m\u001b[1;33m.\u001b[0m\u001b[0mstdout\u001b[0m\u001b[1;33m.\u001b[0m\u001b[0mflush\u001b[0m\u001b[1;33m(\u001b[0m\u001b[1;33m)\u001b[0m\u001b[1;33m\u001b[0m\u001b[1;33m\u001b[0m\u001b[0m\n",
      "\u001b[0m\u001b[1;32m    251 \u001b[1;33m\u001b[1;33m\u001b[0m\u001b[0m\n",
      "\u001b[0m\u001b[1;32m--> 252 \u001b[1;33m    \u001b[1;32mdef\u001b[0m \u001b[0m__call__\u001b[0m\u001b[1;33m(\u001b[0m\u001b[0mself\u001b[0m\u001b[1;33m,\u001b[0m \u001b[0mresult\u001b[0m\u001b[1;33m=\u001b[0m\u001b[1;32mNone\u001b[0m\u001b[1;33m)\u001b[0m\u001b[1;33m:\u001b[0m\u001b[1;33m\u001b[0m\u001b[1;33m\u001b[0m\u001b[0m\n",
      "\u001b[0m\u001b[1;32m    253 \u001b[1;33m        \"\"\"Printing with history cache management.\n",
      "\u001b[0m\u001b[1;32m    254 \u001b[1;33m\u001b[1;33m\u001b[0m\u001b[0m\n",
      "\u001b[0m\n",
      "--KeyboardInterrupt--\n",
      "\n",
      "KeyboardInterrupt: Interrupted by user\n"
     ]
    },
    {
     "data": {
      "text/plain": [
       "5"
      ]
     },
     "execution_count": 23,
     "metadata": {},
     "output_type": "execute_result"
    }
   ],
   "source": [
    "import pdb\n",
    "def sum(a,b):\n",
    "    return a+b\n",
    "def test_fun():\n",
    "    pdb.set_trace()\n",
    "    print('This is first line')\n",
    "    print('This is second line')\n",
    "    value = sum(2,3)\n",
    "    return value\n",
    "test_fun()\n"
   ]
  },
  {
   "cell_type": "code",
   "execution_count": 31,
   "id": "ebe3a4f8",
   "metadata": {},
   "outputs": [
    {
     "ename": "SyntaxError",
     "evalue": "(unicode error) 'unicodeescape' codec can't decode bytes in position 2-3: truncated \\UXXXXXXXX escape (3164696879.py, line 6)",
     "output_type": "error",
     "traceback": [
      "\u001b[1;36m  File \u001b[1;32m\"C:\\Users\\malik bros\\AppData\\Local\\Temp\\ipykernel_12988\\3164696879.py\"\u001b[1;36m, line \u001b[1;32m6\u001b[0m\n\u001b[1;33m    config.read('C:\\Users\\malik bros\\Documents\\practice\\spyder.ini')\u001b[0m\n\u001b[1;37m                                                                   ^\u001b[0m\n\u001b[1;31mSyntaxError\u001b[0m\u001b[1;31m:\u001b[0m (unicode error) 'unicodeescape' codec can't decode bytes in position 2-3: truncated \\UXXXXXXXX escape\n"
     ]
    }
   ],
   "source": [
    "import configparser\n",
    "#import os\n",
    "#print(os.chdir('c:\\\\.spyder-3py'))\n",
    "\n",
    "config = configparser.ConfigParser()\n",
    "config.read('C:\\Users\\malik bros\\Documents\\practice\\spyder.ini')\n",
    "config.sections()\n",
    "print( config.sections() )"
   ]
  },
  {
   "cell_type": "code",
   "execution_count": 29,
   "id": "634a37fd",
   "metadata": {},
   "outputs": [
    {
     "name": "stdout",
     "output_type": "stream",
     "text": [
      "[]\n"
     ]
    }
   ],
   "source": [
    "import configparser\n",
    "config = configparser.ConfigParser()\n",
    "# give the correct path of spyder.ini file\n",
    "config.read(\"C:\\\\Users\\sana.rasheed\\.spyder-py3\\config\\spyder.ini\") #(\"C:\\\\Users\\.spyder-py3\\spyder.ini\") \n",
    "config.sections()\n",
    "print( config.sections() )"
   ]
  },
  {
   "cell_type": "code",
   "execution_count": 30,
   "id": "5c95d9ab",
   "metadata": {},
   "outputs": [
    {
     "name": "stdout",
     "output_type": "stream",
     "text": [
      "C:\\Users\\malik bros\\Documents\\practice\n"
     ]
    }
   ],
   "source": [
    "import os\n",
    "print(os.getcwd())"
   ]
  },
  {
   "cell_type": "code",
   "execution_count": 36,
   "id": "7e6b6366",
   "metadata": {},
   "outputs": [
    {
     "name": "stdout",
     "output_type": "stream",
     "text": [
      "1\n",
      "2\n",
      "3\n",
      "4\n",
      "5\n"
     ]
    }
   ],
   "source": [
    "import array  #array\n",
    "stu_roll = array.array(\"i\",[1,2,3,4,5])\n",
    "for n in stu_roll:\n",
    "    print(n)"
   ]
  },
  {
   "cell_type": "code",
   "execution_count": 37,
   "id": "d231bec3",
   "metadata": {},
   "outputs": [
    {
     "name": "stdout",
     "output_type": "stream",
     "text": [
      "1\n",
      "2\n",
      "3\n",
      "4\n",
      "5\n"
     ]
    }
   ],
   "source": [
    "#array\n",
    "from array import*\n",
    "stu_roll = array('i',[1,2,3,4,5])\n",
    "for n in stu_roll:\n",
    "    print(n)"
   ]
  },
  {
   "cell_type": "code",
   "execution_count": null,
   "id": "14957d9f",
   "metadata": {},
   "outputs": [],
   "source": []
  }
 ],
 "metadata": {
  "kernelspec": {
   "display_name": "Python 3 (ipykernel)",
   "language": "python",
   "name": "python3"
  },
  "language_info": {
   "codemirror_mode": {
    "name": "ipython",
    "version": 3
   },
   "file_extension": ".py",
   "mimetype": "text/x-python",
   "name": "python",
   "nbconvert_exporter": "python",
   "pygments_lexer": "ipython3",
   "version": "3.9.13"
  }
 },
 "nbformat": 4,
 "nbformat_minor": 5
}
